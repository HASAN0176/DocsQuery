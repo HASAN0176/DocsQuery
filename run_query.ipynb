{
 "cells": [
  {
   "cell_type": "code",
   "execution_count": null,
   "id": "6dc4c584",
   "metadata": {},
   "outputs": [],
   "source": [
    "import os\n",
    "\n",
    "from google.colab import drive\n",
    "drive.mount('/content/drive', force_remount=True)\n",
    "\n",
    "\n",
    "drive_path = '/content/drive/MyDrive'\n",
    "folder_name = 'project_repo'\n",
    "folder_path = os.path.join(drive_path, folder_name)\n",
    "if not os.path.exists(folder_path):\n",
    "    os.makedirs(folder_path)\n",
    "    \n",
    "repo_path = os.path.join(folder_path, \"DocsQuery\")\n",
    "\n",
    "if not os.path.exists(repo_path):\n",
    "  os.chdir(folder_path)\n",
    "  !git clone https://github.com/HASAN0176/DocsQuery.git\n",
    "  os.chdir(repo_path)\n",
    "else:\n",
    "  os.chdir(repo_path)\n",
    "  !git pull\n",
    "\n",
    "# import docsQuery\n",
    "import docsQuery\n",
    "\n",
    "docsQuery.run_conversation(folder_path)"
   ]
  }
 ],
 "metadata": {
  "kernelspec": {
   "display_name": "Python 3 (ipykernel)",
   "language": "python",
   "name": "python3"
  },
  "language_info": {
   "codemirror_mode": {
    "name": "ipython",
    "version": 3
   },
   "file_extension": ".py",
   "mimetype": "text/x-python",
   "name": "python",
   "nbconvert_exporter": "python",
   "pygments_lexer": "ipython3",
   "version": "3.11.5"
  }
 },
 "nbformat": 4,
 "nbformat_minor": 5
}
